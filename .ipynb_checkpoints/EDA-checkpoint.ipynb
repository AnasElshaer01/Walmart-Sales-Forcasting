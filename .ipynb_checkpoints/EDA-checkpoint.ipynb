{
 "cells": [
  {
   "cell_type": "code",
   "execution_count": 41,
   "id": "9ca18912",
   "metadata": {},
   "outputs": [],
   "source": [
    "import pandas as pd\n",
    "import numpy as np\n",
    "import matplotlib.pyplot as plt\n",
    "import seaborn  as sns\n",
    "import warnings\n",
    "warnings.filterwarnings('ignore')\n",
    "import matplotlib.ticker as ticker\n",
    "%matplotlib inline"
   ]
  },
  {
   "cell_type": "code",
   "execution_count": 2,
   "id": "92544fbc",
   "metadata": {},
   "outputs": [
    {
     "name": "stdout",
     "output_type": "stream",
     "text": [
      "C:\\Users\\Anas\\Walmart Sales\\Data\n"
     ]
    }
   ],
   "source": [
    "%cd Data/"
   ]
  },
  {
   "cell_type": "code",
   "execution_count": 3,
   "id": "a89f22e4",
   "metadata": {},
   "outputs": [],
   "source": [
    "features = pd.read_csv('features.csv')\n",
    "data = pd.read_csv(\"train.csv\")"
   ]
  },
  {
   "cell_type": "code",
   "execution_count": 4,
   "id": "3b793993",
   "metadata": {},
   "outputs": [
    {
     "data": {
      "text/html": [
       "<div>\n",
       "<style scoped>\n",
       "    .dataframe tbody tr th:only-of-type {\n",
       "        vertical-align: middle;\n",
       "    }\n",
       "\n",
       "    .dataframe tbody tr th {\n",
       "        vertical-align: top;\n",
       "    }\n",
       "\n",
       "    .dataframe thead th {\n",
       "        text-align: right;\n",
       "    }\n",
       "</style>\n",
       "<table border=\"1\" class=\"dataframe\">\n",
       "  <thead>\n",
       "    <tr style=\"text-align: right;\">\n",
       "      <th></th>\n",
       "      <th>Store</th>\n",
       "      <th>Dept</th>\n",
       "      <th>Weekly_Sales</th>\n",
       "    </tr>\n",
       "  </thead>\n",
       "  <tbody>\n",
       "    <tr>\n",
       "      <th>count</th>\n",
       "      <td>421570.000000</td>\n",
       "      <td>421570.000000</td>\n",
       "      <td>421570.000000</td>\n",
       "    </tr>\n",
       "    <tr>\n",
       "      <th>mean</th>\n",
       "      <td>22.200546</td>\n",
       "      <td>44.260317</td>\n",
       "      <td>15981.258123</td>\n",
       "    </tr>\n",
       "    <tr>\n",
       "      <th>std</th>\n",
       "      <td>12.785297</td>\n",
       "      <td>30.492054</td>\n",
       "      <td>22711.183519</td>\n",
       "    </tr>\n",
       "    <tr>\n",
       "      <th>min</th>\n",
       "      <td>1.000000</td>\n",
       "      <td>1.000000</td>\n",
       "      <td>-4988.940000</td>\n",
       "    </tr>\n",
       "    <tr>\n",
       "      <th>25%</th>\n",
       "      <td>11.000000</td>\n",
       "      <td>18.000000</td>\n",
       "      <td>2079.650000</td>\n",
       "    </tr>\n",
       "    <tr>\n",
       "      <th>50%</th>\n",
       "      <td>22.000000</td>\n",
       "      <td>37.000000</td>\n",
       "      <td>7612.030000</td>\n",
       "    </tr>\n",
       "    <tr>\n",
       "      <th>75%</th>\n",
       "      <td>33.000000</td>\n",
       "      <td>74.000000</td>\n",
       "      <td>20205.852500</td>\n",
       "    </tr>\n",
       "    <tr>\n",
       "      <th>max</th>\n",
       "      <td>45.000000</td>\n",
       "      <td>99.000000</td>\n",
       "      <td>693099.360000</td>\n",
       "    </tr>\n",
       "  </tbody>\n",
       "</table>\n",
       "</div>"
      ],
      "text/plain": [
       "               Store           Dept   Weekly_Sales\n",
       "count  421570.000000  421570.000000  421570.000000\n",
       "mean       22.200546      44.260317   15981.258123\n",
       "std        12.785297      30.492054   22711.183519\n",
       "min         1.000000       1.000000   -4988.940000\n",
       "25%        11.000000      18.000000    2079.650000\n",
       "50%        22.000000      37.000000    7612.030000\n",
       "75%        33.000000      74.000000   20205.852500\n",
       "max        45.000000      99.000000  693099.360000"
      ]
     },
     "execution_count": 4,
     "metadata": {},
     "output_type": "execute_result"
    }
   ],
   "source": [
    "data.describe()"
   ]
  },
  {
   "cell_type": "code",
   "execution_count": 5,
   "id": "d2245cee",
   "metadata": {},
   "outputs": [
    {
     "data": {
      "text/plain": [
       "Store              0\n",
       "Date               0\n",
       "Temperature        0\n",
       "Fuel_Price         0\n",
       "MarkDown1       4158\n",
       "MarkDown2       5269\n",
       "MarkDown3       4577\n",
       "MarkDown4       4726\n",
       "MarkDown5       4140\n",
       "CPI              585\n",
       "Unemployment     585\n",
       "IsHoliday          0\n",
       "dtype: int64"
      ]
     },
     "execution_count": 5,
     "metadata": {},
     "output_type": "execute_result"
    }
   ],
   "source": [
    "features.isna().sum()"
   ]
  },
  {
   "cell_type": "code",
   "execution_count": 6,
   "id": "cad9266f",
   "metadata": {},
   "outputs": [
    {
     "data": {
      "text/plain": [
       "Store             int64\n",
       "Date             object\n",
       "Temperature     float64\n",
       "Fuel_Price      float64\n",
       "MarkDown1       float64\n",
       "MarkDown2       float64\n",
       "MarkDown3       float64\n",
       "MarkDown4       float64\n",
       "MarkDown5       float64\n",
       "CPI             float64\n",
       "Unemployment    float64\n",
       "IsHoliday          bool\n",
       "dtype: object"
      ]
     },
     "execution_count": 6,
     "metadata": {},
     "output_type": "execute_result"
    }
   ],
   "source": [
    "features.dtypes "
   ]
  },
  {
   "cell_type": "code",
   "execution_count": 7,
   "id": "eadce39d",
   "metadata": {},
   "outputs": [
    {
     "data": {
      "text/plain": [
       "(8190, 12)"
      ]
     },
     "execution_count": 7,
     "metadata": {},
     "output_type": "execute_result"
    }
   ],
   "source": [
    "features.shape"
   ]
  },
  {
   "cell_type": "code",
   "execution_count": 8,
   "id": "71353f35",
   "metadata": {},
   "outputs": [
    {
     "data": {
      "text/plain": [
       "(421570, 5)"
      ]
     },
     "execution_count": 8,
     "metadata": {},
     "output_type": "execute_result"
    }
   ],
   "source": [
    "data.shape"
   ]
  },
  {
   "cell_type": "code",
   "execution_count": 9,
   "id": "b4c90803",
   "metadata": {},
   "outputs": [
    {
     "data": {
      "text/html": [
       "<div>\n",
       "<style scoped>\n",
       "    .dataframe tbody tr th:only-of-type {\n",
       "        vertical-align: middle;\n",
       "    }\n",
       "\n",
       "    .dataframe tbody tr th {\n",
       "        vertical-align: top;\n",
       "    }\n",
       "\n",
       "    .dataframe thead th {\n",
       "        text-align: right;\n",
       "    }\n",
       "</style>\n",
       "<table border=\"1\" class=\"dataframe\">\n",
       "  <thead>\n",
       "    <tr style=\"text-align: right;\">\n",
       "      <th></th>\n",
       "      <th>Store</th>\n",
       "      <th>Dept</th>\n",
       "      <th>Date</th>\n",
       "      <th>Weekly_Sales</th>\n",
       "      <th>IsHoliday</th>\n",
       "    </tr>\n",
       "  </thead>\n",
       "  <tbody>\n",
       "    <tr>\n",
       "      <th>0</th>\n",
       "      <td>1</td>\n",
       "      <td>1</td>\n",
       "      <td>2010-02-05</td>\n",
       "      <td>24924.50</td>\n",
       "      <td>False</td>\n",
       "    </tr>\n",
       "    <tr>\n",
       "      <th>1</th>\n",
       "      <td>1</td>\n",
       "      <td>1</td>\n",
       "      <td>2010-02-12</td>\n",
       "      <td>46039.49</td>\n",
       "      <td>True</td>\n",
       "    </tr>\n",
       "    <tr>\n",
       "      <th>2</th>\n",
       "      <td>1</td>\n",
       "      <td>1</td>\n",
       "      <td>2010-02-19</td>\n",
       "      <td>41595.55</td>\n",
       "      <td>False</td>\n",
       "    </tr>\n",
       "    <tr>\n",
       "      <th>3</th>\n",
       "      <td>1</td>\n",
       "      <td>1</td>\n",
       "      <td>2010-02-26</td>\n",
       "      <td>19403.54</td>\n",
       "      <td>False</td>\n",
       "    </tr>\n",
       "    <tr>\n",
       "      <th>4</th>\n",
       "      <td>1</td>\n",
       "      <td>1</td>\n",
       "      <td>2010-03-05</td>\n",
       "      <td>21827.90</td>\n",
       "      <td>False</td>\n",
       "    </tr>\n",
       "    <tr>\n",
       "      <th>5</th>\n",
       "      <td>1</td>\n",
       "      <td>1</td>\n",
       "      <td>2010-03-12</td>\n",
       "      <td>21043.39</td>\n",
       "      <td>False</td>\n",
       "    </tr>\n",
       "    <tr>\n",
       "      <th>6</th>\n",
       "      <td>1</td>\n",
       "      <td>1</td>\n",
       "      <td>2010-03-19</td>\n",
       "      <td>22136.64</td>\n",
       "      <td>False</td>\n",
       "    </tr>\n",
       "    <tr>\n",
       "      <th>7</th>\n",
       "      <td>1</td>\n",
       "      <td>1</td>\n",
       "      <td>2010-03-26</td>\n",
       "      <td>26229.21</td>\n",
       "      <td>False</td>\n",
       "    </tr>\n",
       "    <tr>\n",
       "      <th>8</th>\n",
       "      <td>1</td>\n",
       "      <td>1</td>\n",
       "      <td>2010-04-02</td>\n",
       "      <td>57258.43</td>\n",
       "      <td>False</td>\n",
       "    </tr>\n",
       "    <tr>\n",
       "      <th>9</th>\n",
       "      <td>1</td>\n",
       "      <td>1</td>\n",
       "      <td>2010-04-09</td>\n",
       "      <td>42960.91</td>\n",
       "      <td>False</td>\n",
       "    </tr>\n",
       "  </tbody>\n",
       "</table>\n",
       "</div>"
      ],
      "text/plain": [
       "   Store  Dept        Date  Weekly_Sales  IsHoliday\n",
       "0      1     1  2010-02-05      24924.50      False\n",
       "1      1     1  2010-02-12      46039.49       True\n",
       "2      1     1  2010-02-19      41595.55      False\n",
       "3      1     1  2010-02-26      19403.54      False\n",
       "4      1     1  2010-03-05      21827.90      False\n",
       "5      1     1  2010-03-12      21043.39      False\n",
       "6      1     1  2010-03-19      22136.64      False\n",
       "7      1     1  2010-03-26      26229.21      False\n",
       "8      1     1  2010-04-02      57258.43      False\n",
       "9      1     1  2010-04-09      42960.91      False"
      ]
     },
     "execution_count": 9,
     "metadata": {},
     "output_type": "execute_result"
    }
   ],
   "source": [
    "data.head(10)"
   ]
  },
  {
   "cell_type": "markdown",
   "id": "6007c4d3",
   "metadata": {},
   "source": [
    "# My goal is to predict the weekly sales of that department\n"
   ]
  },
  {
   "cell_type": "code",
   "execution_count": 10,
   "id": "cca49ad6",
   "metadata": {
    "scrolled": false
   },
   "outputs": [
    {
     "data": {
      "text/plain": [
       "81"
      ]
     },
     "execution_count": 10,
     "metadata": {},
     "output_type": "execute_result"
    }
   ],
   "source": [
    "len(data['Dept'].unique())"
   ]
  },
  {
   "cell_type": "code",
   "execution_count": 11,
   "id": "d860793f",
   "metadata": {},
   "outputs": [],
   "source": [
    "# mask = ((data['Dept']== 1) & (data['IsHoliday'] == True))\n"
   ]
  },
  {
   "cell_type": "code",
   "execution_count": 12,
   "id": "ce93dd12",
   "metadata": {},
   "outputs": [],
   "source": [
    "data['Date'] = pd.to_datetime(data['Date'])"
   ]
  },
  {
   "cell_type": "code",
   "execution_count": 13,
   "id": "65dbc00e",
   "metadata": {},
   "outputs": [],
   "source": [
    "# data.set_index('Date',inplace= True)\n",
    "# data.head(15)"
   ]
  },
  {
   "cell_type": "code",
   "execution_count": 14,
   "id": "83f16e8b",
   "metadata": {
    "scrolled": true
   },
   "outputs": [
    {
     "data": {
      "text/plain": [
       "(143, 81)"
      ]
     },
     "execution_count": 14,
     "metadata": {},
     "output_type": "execute_result"
    }
   ],
   "source": [
    "sales_eachdeptr = (data.groupby(by=['Date','Dept'])\n",
    "                  .Weekly_Sales\n",
    "                  .first()\n",
    "                  .unstack())\n",
    "sales_eachdeptr.shape"
   ]
  },
  {
   "cell_type": "code",
   "execution_count": 15,
   "id": "f6d83684",
   "metadata": {
    "scrolled": true
   },
   "outputs": [
    {
     "data": {
      "text/html": [
       "<div>\n",
       "<style scoped>\n",
       "    .dataframe tbody tr th:only-of-type {\n",
       "        vertical-align: middle;\n",
       "    }\n",
       "\n",
       "    .dataframe tbody tr th {\n",
       "        vertical-align: top;\n",
       "    }\n",
       "\n",
       "    .dataframe thead th {\n",
       "        text-align: right;\n",
       "    }\n",
       "</style>\n",
       "<table border=\"1\" class=\"dataframe\">\n",
       "  <thead>\n",
       "    <tr style=\"text-align: right;\">\n",
       "      <th>Dept</th>\n",
       "      <th>1</th>\n",
       "      <th>2</th>\n",
       "      <th>3</th>\n",
       "      <th>4</th>\n",
       "      <th>5</th>\n",
       "      <th>6</th>\n",
       "      <th>7</th>\n",
       "      <th>8</th>\n",
       "      <th>9</th>\n",
       "      <th>10</th>\n",
       "      <th>...</th>\n",
       "      <th>90</th>\n",
       "      <th>91</th>\n",
       "      <th>92</th>\n",
       "      <th>93</th>\n",
       "      <th>94</th>\n",
       "      <th>95</th>\n",
       "      <th>96</th>\n",
       "      <th>97</th>\n",
       "      <th>98</th>\n",
       "      <th>99</th>\n",
       "    </tr>\n",
       "    <tr>\n",
       "      <th>Date</th>\n",
       "      <th></th>\n",
       "      <th></th>\n",
       "      <th></th>\n",
       "      <th></th>\n",
       "      <th></th>\n",
       "      <th></th>\n",
       "      <th></th>\n",
       "      <th></th>\n",
       "      <th></th>\n",
       "      <th></th>\n",
       "      <th></th>\n",
       "      <th></th>\n",
       "      <th></th>\n",
       "      <th></th>\n",
       "      <th></th>\n",
       "      <th></th>\n",
       "      <th></th>\n",
       "      <th></th>\n",
       "      <th></th>\n",
       "      <th></th>\n",
       "      <th></th>\n",
       "    </tr>\n",
       "  </thead>\n",
       "  <tbody>\n",
       "    <tr>\n",
       "      <th>2010-02-05</th>\n",
       "      <td>24924.50</td>\n",
       "      <td>50605.27</td>\n",
       "      <td>13740.12</td>\n",
       "      <td>39954.04</td>\n",
       "      <td>32229.38</td>\n",
       "      <td>5749.03</td>\n",
       "      <td>21084.08</td>\n",
       "      <td>40129.01</td>\n",
       "      <td>16930.99</td>\n",
       "      <td>30721.50</td>\n",
       "      <td>...</td>\n",
       "      <td>76419.47</td>\n",
       "      <td>62424.14</td>\n",
       "      <td>139884.94</td>\n",
       "      <td>64494.87</td>\n",
       "      <td>56655.39</td>\n",
       "      <td>106690.06</td>\n",
       "      <td>29295.96</td>\n",
       "      <td>32153.04</td>\n",
       "      <td>10891.37</td>\n",
       "      <td>0.02</td>\n",
       "    </tr>\n",
       "    <tr>\n",
       "      <th>2010-02-12</th>\n",
       "      <td>46039.49</td>\n",
       "      <td>44682.74</td>\n",
       "      <td>10887.84</td>\n",
       "      <td>35351.21</td>\n",
       "      <td>29620.81</td>\n",
       "      <td>9135.00</td>\n",
       "      <td>18310.31</td>\n",
       "      <td>37334.83</td>\n",
       "      <td>16562.49</td>\n",
       "      <td>31494.77</td>\n",
       "      <td>...</td>\n",
       "      <td>79455.64</td>\n",
       "      <td>66937.00</td>\n",
       "      <td>143081.42</td>\n",
       "      <td>70202.02</td>\n",
       "      <td>62329.48</td>\n",
       "      <td>111390.36</td>\n",
       "      <td>32120.35</td>\n",
       "      <td>33874.47</td>\n",
       "      <td>16309.73</td>\n",
       "      <td>0.01</td>\n",
       "    </tr>\n",
       "    <tr>\n",
       "      <th>2010-02-19</th>\n",
       "      <td>41595.55</td>\n",
       "      <td>47928.89</td>\n",
       "      <td>11523.47</td>\n",
       "      <td>36826.95</td>\n",
       "      <td>26468.27</td>\n",
       "      <td>6060.26</td>\n",
       "      <td>19985.20</td>\n",
       "      <td>38717.60</td>\n",
       "      <td>15880.85</td>\n",
       "      <td>29634.13</td>\n",
       "      <td>...</td>\n",
       "      <td>76091.36</td>\n",
       "      <td>63011.44</td>\n",
       "      <td>135066.75</td>\n",
       "      <td>62581.64</td>\n",
       "      <td>72212.32</td>\n",
       "      <td>107952.07</td>\n",
       "      <td>29022.90</td>\n",
       "      <td>31585.78</td>\n",
       "      <td>12087.95</td>\n",
       "      <td>8.98</td>\n",
       "    </tr>\n",
       "    <tr>\n",
       "      <th>2010-02-26</th>\n",
       "      <td>19403.54</td>\n",
       "      <td>44292.87</td>\n",
       "      <td>11135.17</td>\n",
       "      <td>34660.16</td>\n",
       "      <td>24101.89</td>\n",
       "      <td>5244.56</td>\n",
       "      <td>17224.22</td>\n",
       "      <td>35318.20</td>\n",
       "      <td>15175.52</td>\n",
       "      <td>27921.96</td>\n",
       "      <td>...</td>\n",
       "      <td>71718.48</td>\n",
       "      <td>57335.17</td>\n",
       "      <td>125048.08</td>\n",
       "      <td>57630.02</td>\n",
       "      <td>55501.07</td>\n",
       "      <td>103652.58</td>\n",
       "      <td>27284.02</td>\n",
       "      <td>28457.31</td>\n",
       "      <td>10871.74</td>\n",
       "      <td>NaN</td>\n",
       "    </tr>\n",
       "    <tr>\n",
       "      <th>2010-03-05</th>\n",
       "      <td>21827.90</td>\n",
       "      <td>48397.98</td>\n",
       "      <td>12275.58</td>\n",
       "      <td>38086.19</td>\n",
       "      <td>23082.14</td>\n",
       "      <td>4221.25</td>\n",
       "      <td>19659.70</td>\n",
       "      <td>38776.09</td>\n",
       "      <td>24064.70</td>\n",
       "      <td>33299.27</td>\n",
       "      <td>...</td>\n",
       "      <td>78081.85</td>\n",
       "      <td>62755.71</td>\n",
       "      <td>132945.44</td>\n",
       "      <td>63550.08</td>\n",
       "      <td>59201.37</td>\n",
       "      <td>112807.75</td>\n",
       "      <td>29584.45</td>\n",
       "      <td>31576.47</td>\n",
       "      <td>10903.65</td>\n",
       "      <td>0.01</td>\n",
       "    </tr>\n",
       "  </tbody>\n",
       "</table>\n",
       "<p>5 rows × 81 columns</p>\n",
       "</div>"
      ],
      "text/plain": [
       "Dept              1         2         3         4         5        6   \\\n",
       "Date                                                                    \n",
       "2010-02-05  24924.50  50605.27  13740.12  39954.04  32229.38  5749.03   \n",
       "2010-02-12  46039.49  44682.74  10887.84  35351.21  29620.81  9135.00   \n",
       "2010-02-19  41595.55  47928.89  11523.47  36826.95  26468.27  6060.26   \n",
       "2010-02-26  19403.54  44292.87  11135.17  34660.16  24101.89  5244.56   \n",
       "2010-03-05  21827.90  48397.98  12275.58  38086.19  23082.14  4221.25   \n",
       "\n",
       "Dept              7         8         9         10  ...        90        91  \\\n",
       "Date                                                ...                       \n",
       "2010-02-05  21084.08  40129.01  16930.99  30721.50  ...  76419.47  62424.14   \n",
       "2010-02-12  18310.31  37334.83  16562.49  31494.77  ...  79455.64  66937.00   \n",
       "2010-02-19  19985.20  38717.60  15880.85  29634.13  ...  76091.36  63011.44   \n",
       "2010-02-26  17224.22  35318.20  15175.52  27921.96  ...  71718.48  57335.17   \n",
       "2010-03-05  19659.70  38776.09  24064.70  33299.27  ...  78081.85  62755.71   \n",
       "\n",
       "Dept               92        93        94         95        96        97  \\\n",
       "Date                                                                       \n",
       "2010-02-05  139884.94  64494.87  56655.39  106690.06  29295.96  32153.04   \n",
       "2010-02-12  143081.42  70202.02  62329.48  111390.36  32120.35  33874.47   \n",
       "2010-02-19  135066.75  62581.64  72212.32  107952.07  29022.90  31585.78   \n",
       "2010-02-26  125048.08  57630.02  55501.07  103652.58  27284.02  28457.31   \n",
       "2010-03-05  132945.44  63550.08  59201.37  112807.75  29584.45  31576.47   \n",
       "\n",
       "Dept              98    99  \n",
       "Date                        \n",
       "2010-02-05  10891.37  0.02  \n",
       "2010-02-12  16309.73  0.01  \n",
       "2010-02-19  12087.95  8.98  \n",
       "2010-02-26  10871.74   NaN  \n",
       "2010-03-05  10903.65  0.01  \n",
       "\n",
       "[5 rows x 81 columns]"
      ]
     },
     "execution_count": 15,
     "metadata": {},
     "output_type": "execute_result"
    }
   ],
   "source": [
    "sales_eachdeptr.head()"
   ]
  },
  {
   "cell_type": "code",
   "execution_count": 16,
   "id": "03dc2bbe",
   "metadata": {
    "scrolled": false
   },
   "outputs": [
    {
     "data": {
      "image/png": "[encoded data removed]",
      "text/plain": [
       "<Figure size 720x360 with 1 Axes>"
      ]
     },
     "metadata": {},
     "output_type": "display_data"
    }
   ],
   "source": [
    "depts = [2 , 7 , 38 , 72 , 82 , 95]\n",
    "plt.style.use('seaborn')\n",
    "plt.figure(figsize=(10,5))\n",
    "\n",
    "for i in range(len(depts)):\n",
    "    plt.plot(sales_eachdeptr[depts[i]])\n",
    "    plt.legend(depts)\n",
    "plt.title(\"Sales for each department \")\n",
    "plt.xlabel(\"Week\")\n",
    "plt.ylabel(\"Sales\")\n",
    "plt.show()"
   ]
  },
  {
   "cell_type": "markdown",
   "id": "55a262a6",
   "metadata": {},
   "source": [
    "as we see the sales for these departments increse in time of vacations\n"
   ]
  },
  {
   "cell_type": "code",
   "execution_count": 17,
   "id": "32805023",
   "metadata": {},
   "outputs": [
    {
     "data": {
      "text/plain": [
       "Dept\n",
       "72    203670.47\n",
       "92    194839.60\n",
       "7     166697.72\n",
       "95    148798.05\n",
       "38    127811.89\n",
       "        ...    \n",
       "51       209.72\n",
       "45        95.76\n",
       "78        40.00\n",
       "39        28.31\n",
       "43         3.00\n",
       "Length: 81, dtype: float64"
      ]
     },
     "execution_count": 17,
     "metadata": {},
     "output_type": "execute_result"
    }
   ],
   "source": [
    "sales_eachdeptr.max().sort_values(ascending = False)"
   ]
  },
  {
   "cell_type": "code",
   "execution_count": 18,
   "id": "24815b0e",
   "metadata": {},
   "outputs": [
    {
     "data": {
      "text/html": [
       "<div>\n",
       "<style scoped>\n",
       "    .dataframe tbody tr th:only-of-type {\n",
       "        vertical-align: middle;\n",
       "    }\n",
       "\n",
       "    .dataframe tbody tr th {\n",
       "        vertical-align: top;\n",
       "    }\n",
       "\n",
       "    .dataframe thead th {\n",
       "        text-align: right;\n",
       "    }\n",
       "</style>\n",
       "<table border=\"1\" class=\"dataframe\">\n",
       "  <thead>\n",
       "    <tr style=\"text-align: right;\">\n",
       "      <th>Dept</th>\n",
       "      <th>1</th>\n",
       "      <th>2</th>\n",
       "      <th>3</th>\n",
       "      <th>4</th>\n",
       "      <th>5</th>\n",
       "      <th>6</th>\n",
       "      <th>7</th>\n",
       "      <th>8</th>\n",
       "      <th>9</th>\n",
       "      <th>10</th>\n",
       "      <th>...</th>\n",
       "      <th>90</th>\n",
       "      <th>91</th>\n",
       "      <th>92</th>\n",
       "      <th>93</th>\n",
       "      <th>94</th>\n",
       "      <th>95</th>\n",
       "      <th>96</th>\n",
       "      <th>97</th>\n",
       "      <th>98</th>\n",
       "      <th>99</th>\n",
       "    </tr>\n",
       "  </thead>\n",
       "  <tbody>\n",
       "    <tr>\n",
       "      <th>count</th>\n",
       "      <td>143.000000</td>\n",
       "      <td>143.000000</td>\n",
       "      <td>143.000000</td>\n",
       "      <td>143.000000</td>\n",
       "      <td>143.000000</td>\n",
       "      <td>143.000000</td>\n",
       "      <td>143.000000</td>\n",
       "      <td>143.000000</td>\n",
       "      <td>143.000000</td>\n",
       "      <td>143.000000</td>\n",
       "      <td>...</td>\n",
       "      <td>143.000000</td>\n",
       "      <td>143.000000</td>\n",
       "      <td>143.000000</td>\n",
       "      <td>143.000000</td>\n",
       "      <td>143.000000</td>\n",
       "      <td>143.000000</td>\n",
       "      <td>143.000000</td>\n",
       "      <td>143.000000</td>\n",
       "      <td>143.000000</td>\n",
       "      <td>94.000000</td>\n",
       "    </tr>\n",
       "    <tr>\n",
       "      <th>mean</th>\n",
       "      <td>22513.322937</td>\n",
       "      <td>46102.090420</td>\n",
       "      <td>13150.478042</td>\n",
       "      <td>36964.154476</td>\n",
       "      <td>24257.941119</td>\n",
       "      <td>4801.780140</td>\n",
       "      <td>24566.487413</td>\n",
       "      <td>35718.257622</td>\n",
       "      <td>28062.052238</td>\n",
       "      <td>31033.386364</td>\n",
       "      <td>...</td>\n",
       "      <td>82427.547832</td>\n",
       "      <td>64238.943427</td>\n",
       "      <td>135458.969510</td>\n",
       "      <td>71699.182378</td>\n",
       "      <td>63180.568182</td>\n",
       "      <td>120772.062168</td>\n",
       "      <td>33269.803217</td>\n",
       "      <td>35207.348811</td>\n",
       "      <td>11827.770769</td>\n",
       "      <td>133.856489</td>\n",
       "    </tr>\n",
       "    <tr>\n",
       "      <th>std</th>\n",
       "      <td>9854.349032</td>\n",
       "      <td>3440.673222</td>\n",
       "      <td>8708.978853</td>\n",
       "      <td>2930.698313</td>\n",
       "      <td>11330.286495</td>\n",
       "      <td>3317.432691</td>\n",
       "      <td>18808.958465</td>\n",
       "      <td>2490.769188</td>\n",
       "      <td>8422.254593</td>\n",
       "      <td>3509.190495</td>\n",
       "      <td>...</td>\n",
       "      <td>8355.642884</td>\n",
       "      <td>6063.276662</td>\n",
       "      <td>16599.484707</td>\n",
       "      <td>9300.200076</td>\n",
       "      <td>6605.065020</td>\n",
       "      <td>10234.444724</td>\n",
       "      <td>5788.326194</td>\n",
       "      <td>3388.496723</td>\n",
       "      <td>2081.131442</td>\n",
       "      <td>366.383647</td>\n",
       "    </tr>\n",
       "    <tr>\n",
       "      <th>min</th>\n",
       "      <td>14537.370000</td>\n",
       "      <td>35819.830000</td>\n",
       "      <td>6165.730000</td>\n",
       "      <td>32497.430000</td>\n",
       "      <td>11570.270000</td>\n",
       "      <td>-139.650000</td>\n",
       "      <td>9194.610000</td>\n",
       "      <td>31061.210000</td>\n",
       "      <td>11355.870000</td>\n",
       "      <td>23058.410000</td>\n",
       "      <td>...</td>\n",
       "      <td>67584.030000</td>\n",
       "      <td>48263.590000</td>\n",
       "      <td>106205.580000</td>\n",
       "      <td>55082.400000</td>\n",
       "      <td>45989.260000</td>\n",
       "      <td>93358.910000</td>\n",
       "      <td>5265.090000</td>\n",
       "      <td>28457.310000</td>\n",
       "      <td>8283.280000</td>\n",
       "      <td>-147.000000</td>\n",
       "    </tr>\n",
       "    <tr>\n",
       "      <th>25%</th>\n",
       "      <td>16494.630000</td>\n",
       "      <td>44170.460000</td>\n",
       "      <td>8693.040000</td>\n",
       "      <td>34887.740000</td>\n",
       "      <td>17972.590000</td>\n",
       "      <td>3364.800000</td>\n",
       "      <td>16703.165000</td>\n",
       "      <td>34010.225000</td>\n",
       "      <td>22739.510000</td>\n",
       "      <td>28905.830000</td>\n",
       "      <td>...</td>\n",
       "      <td>76520.785000</td>\n",
       "      <td>59665.255000</td>\n",
       "      <td>124487.620000</td>\n",
       "      <td>64135.930000</td>\n",
       "      <td>59180.660000</td>\n",
       "      <td>113069.290000</td>\n",
       "      <td>30660.490000</td>\n",
       "      <td>32357.310000</td>\n",
       "      <td>10649.535000</td>\n",
       "      <td>0.020000</td>\n",
       "    </tr>\n",
       "    <tr>\n",
       "      <th>50%</th>\n",
       "      <td>18535.480000</td>\n",
       "      <td>45561.850000</td>\n",
       "      <td>10366.850000</td>\n",
       "      <td>36579.960000</td>\n",
       "      <td>21183.420000</td>\n",
       "      <td>4132.610000</td>\n",
       "      <td>20212.710000</td>\n",
       "      <td>35356.120000</td>\n",
       "      <td>27333.830000</td>\n",
       "      <td>30888.690000</td>\n",
       "      <td>...</td>\n",
       "      <td>81580.580000</td>\n",
       "      <td>64022.490000</td>\n",
       "      <td>132945.440000</td>\n",
       "      <td>72089.330000</td>\n",
       "      <td>62767.870000</td>\n",
       "      <td>120721.070000</td>\n",
       "      <td>32644.210000</td>\n",
       "      <td>35362.900000</td>\n",
       "      <td>11424.420000</td>\n",
       "      <td>10.760000</td>\n",
       "    </tr>\n",
       "    <tr>\n",
       "      <th>75%</th>\n",
       "      <td>23214.215000</td>\n",
       "      <td>47612.245000</td>\n",
       "      <td>12655.610000</td>\n",
       "      <td>38268.405000</td>\n",
       "      <td>25653.795000</td>\n",
       "      <td>5022.410000</td>\n",
       "      <td>24130.175000</td>\n",
       "      <td>37262.380000</td>\n",
       "      <td>32744.210000</td>\n",
       "      <td>32686.415000</td>\n",
       "      <td>...</td>\n",
       "      <td>88069.955000</td>\n",
       "      <td>68754.780000</td>\n",
       "      <td>145234.685000</td>\n",
       "      <td>78472.555000</td>\n",
       "      <td>66589.975000</td>\n",
       "      <td>127654.500000</td>\n",
       "      <td>36297.650000</td>\n",
       "      <td>37727.470000</td>\n",
       "      <td>12395.485000</td>\n",
       "      <td>72.500000</td>\n",
       "    </tr>\n",
       "    <tr>\n",
       "      <th>max</th>\n",
       "      <td>57592.120000</td>\n",
       "      <td>65615.360000</td>\n",
       "      <td>51159.170000</td>\n",
       "      <td>47893.230000</td>\n",
       "      <td>85676.090000</td>\n",
       "      <td>28497.520000</td>\n",
       "      <td>166697.720000</td>\n",
       "      <td>42663.750000</td>\n",
       "      <td>50675.720000</td>\n",
       "      <td>43718.050000</td>\n",
       "      <td>...</td>\n",
       "      <td>116538.940000</td>\n",
       "      <td>76603.530000</td>\n",
       "      <td>194839.600000</td>\n",
       "      <td>97979.960000</td>\n",
       "      <td>86052.030000</td>\n",
       "      <td>148798.050000</td>\n",
       "      <td>52101.280000</td>\n",
       "      <td>43995.150000</td>\n",
       "      <td>20732.040000</td>\n",
       "      <td>2400.000000</td>\n",
       "    </tr>\n",
       "  </tbody>\n",
       "</table>\n",
       "<p>8 rows × 81 columns</p>\n",
       "</div>"
      ],
      "text/plain": [
       "Dept             1             2             3             4             5   \\\n",
       "count    143.000000    143.000000    143.000000    143.000000    143.000000   \n",
       "mean   22513.322937  46102.090420  13150.478042  36964.154476  24257.941119   \n",
       "std     9854.349032   3440.673222   8708.978853   2930.698313  11330.286495   \n",
       "min    14537.370000  35819.830000   6165.730000  32497.430000  11570.270000   \n",
       "25%    16494.630000  44170.460000   8693.040000  34887.740000  17972.590000   \n",
       "50%    18535.480000  45561.850000  10366.850000  36579.960000  21183.420000   \n",
       "75%    23214.215000  47612.245000  12655.610000  38268.405000  25653.795000   \n",
       "max    57592.120000  65615.360000  51159.170000  47893.230000  85676.090000   \n",
       "\n",
       "Dept             6              7             8             9             10  \\\n",
       "count    143.000000     143.000000    143.000000    143.000000    143.000000   \n",
       "mean    4801.780140   24566.487413  35718.257622  28062.052238  31033.386364   \n",
       "std     3317.432691   18808.958465   2490.769188   8422.254593   3509.190495   \n",
       "min     -139.650000    9194.610000  31061.210000  11355.870000  23058.410000   \n",
       "25%     3364.800000   16703.165000  34010.225000  22739.510000  28905.830000   \n",
       "50%     4132.610000   20212.710000  35356.120000  27333.830000  30888.690000   \n",
       "75%     5022.410000   24130.175000  37262.380000  32744.210000  32686.415000   \n",
       "max    28497.520000  166697.720000  42663.750000  50675.720000  43718.050000   \n",
       "\n",
       "Dept   ...             90            91             92            93  \\\n",
       "count  ...     143.000000    143.000000     143.000000    143.000000   \n",
       "mean   ...   82427.547832  64238.943427  135458.969510  71699.182378   \n",
       "std    ...    8355.642884   6063.276662   16599.484707   9300.200076   \n",
       "min    ...   67584.030000  48263.590000  106205.580000  55082.400000   \n",
       "25%    ...   76520.785000  59665.255000  124487.620000  64135.930000   \n",
       "50%    ...   81580.580000  64022.490000  132945.440000  72089.330000   \n",
       "75%    ...   88069.955000  68754.780000  145234.685000  78472.555000   \n",
       "max    ...  116538.940000  76603.530000  194839.600000  97979.960000   \n",
       "\n",
       "Dept             94             95            96            97            98  \\\n",
       "count    143.000000     143.000000    143.000000    143.000000    143.000000   \n",
       "mean   63180.568182  120772.062168  33269.803217  35207.348811  11827.770769   \n",
       "std     6605.065020   10234.444724   5788.326194   3388.496723   2081.131442   \n",
       "min    45989.260000   93358.910000   5265.090000  28457.310000   8283.280000   \n",
       "25%    59180.660000  113069.290000  30660.490000  32357.310000  10649.535000   \n",
       "50%    62767.870000  120721.070000  32644.210000  35362.900000  11424.420000   \n",
       "75%    66589.975000  127654.500000  36297.650000  37727.470000  12395.485000   \n",
       "max    86052.030000  148798.050000  52101.280000  43995.150000  20732.040000   \n",
       "\n",
       "Dept            99  \n",
       "count    94.000000  \n",
       "mean    133.856489  \n",
       "std     366.383647  \n",
       "min    -147.000000  \n",
       "25%       0.020000  \n",
       "50%      10.760000  \n",
       "75%      72.500000  \n",
       "max    2400.000000  \n",
       "\n",
       "[8 rows x 81 columns]"
      ]
     },
     "execution_count": 18,
     "metadata": {},
     "output_type": "execute_result"
    }
   ],
   "source": [
    "sales_eachdeptr.describe()"
   ]
  },
  {
   "cell_type": "code",
   "execution_count": 19,
   "id": "397aeabb",
   "metadata": {},
   "outputs": [
    {
     "data": {
      "image/png": "[encoded data removed]",
      "text/plain": [
       "<Figure size 576x396 with 1 Axes>"
      ]
     },
     "metadata": {},
     "output_type": "display_data"
    }
   ],
   "source": [
    "#get the total sales for each week \n",
    "sales_byweek = sales_eachdeptr.sum(axis= 1).sort_values(ascending=False)\n",
    "top_weeks = sales_byweek.head(10)\n",
    "\n",
    "min_height = min(top_weeks.values)\n",
    "max_height = max(top_weeks.values)\n",
    "\n",
    "\n",
    "ax = top_weeks.plot.bar()\n",
    "plt.ylim(min_height, max_height)\n",
    "ax.set_yticklabels(np.round(top_weeks.values ,0))\n",
    "plt.ylabel(\"Sales\")\n",
    "plt.xticks(rotation = 90)\n",
    "plt.tight_layout()\n",
    "plt.show()\n"
   ]
  },
  {
   "cell_type": "code",
   "execution_count": 50,
   "id": "bbdbe01d",
   "metadata": {},
   "outputs": [
    {
     "data": {
      "image/png": "[encoded data removed]",
      "text/plain": [
       "<Figure size 432x288 with 1 Axes>"
      ]
     },
     "metadata": {
      "needs_background": "light"
     },
     "output_type": "display_data"
    }
   ],
   "source": [
    "# Assuming 'sales_eachdeptr' is a DataFrame with sales data for each department\n",
    "formatter = ticker.ScalarFormatter(useMathText=True)\n",
    "formatter.set_scientific(False)\n",
    "plt.gca().yaxis.set_major_formatter(formatter)\n",
    "sales_bydept = sales_eachdeptr.sum(axis=0).sort_values (ascending=False)\n",
    "top_Dept = sales_bydept.head(15)\n",
    "sns.barplot(x =top_Dept.index ,  y = top_Dept.values , oreder= type_order )\n",
    "plt.ylabel('Sales')\n",
    "plt.title('Sales for top 15 Depts')\n",
    "plt.show()"
   ]
  },
  {
   "cell_type": "code",
   "execution_count": null,
   "id": "8b6ad3d6",
   "metadata": {},
   "outputs": [],
   "source": []
  }
 ],
 "metadata": {
  "kernelspec": {
   "display_name": "Python 3 (ipykernel)",
   "language": "python",
   "name": "python3"
  },
  "language_info": {
   "codemirror_mode": {
    "name": "ipython",
    "version": 3
   },
   "file_extension": ".py",
   "mimetype": "text/x-python",
   "name": "python",
   "nbconvert_exporter": "python",
   "pygments_lexer": "ipython3",
   "version": "3.9.12"
  },
  "varInspector": {
   "cols": {
    "lenName": 16,
    "lenType": 16,
    "lenVar": 40
   },
   "kernels_config": {
    "python": {
     "delete_cmd_postfix": "",
     "delete_cmd_prefix": "del ",
     "library": "var_list.py",
     "varRefreshCmd": "print(var_dic_list())"
    },
    "r": {
     "delete_cmd_postfix": ") ",
     "delete_cmd_prefix": "rm(",
     "library": "var_list.r",
     "varRefreshCmd": "cat(var_dic_list()) "
    }
   },
   "types_to_exclude": [
    "module",
    "function",
    "builtin_function_or_method",
    "instance",
    "_Feature"
   ],
   "window_display": false
  }
 },
 "nbformat": 4,
 "nbformat_minor": 5
}
