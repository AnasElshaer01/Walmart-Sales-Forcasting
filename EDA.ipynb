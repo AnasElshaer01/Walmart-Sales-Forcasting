{
 "cells": [
  {
   "cell_type": "markdown",
   "id": "6007c4d3",
   "metadata": {},
   "source": [
    "# My goal is to predict the weekly sales of that department\n"
   ]
  },
  {
   "cell_type": "code",
   "execution_count": 2,
   "id": "9ca18912",
   "metadata": {},
   "outputs": [],
   "source": [
    "import pandas as pd\n",
    "import numpy as np\n",
    "import matplotlib.pyplot as plt\n",
    "import seaborn  as sns\n",
    "import matplotlib.dates as mdates\n",
    "import warnings\n",
    "warnings.filterwarnings('ignore')\n",
    "import matplotlib.ticker as ticker\n",
    "from statsmodels.tsa.stattools import acf, pacf\n",
    "from statsmodels.graphics.tsaplots import plot_acf , plot_pacf\n",
    "%matplotlib inline"
   ]
  },
  {
   "cell_type": "code",
   "execution_count": 3,
   "id": "92544fbc",
   "metadata": {},
   "outputs": [
    {
     "name": "stdout",
     "output_type": "stream",
     "text": [
      "C:\\Users\\Anas\\Walmart Sales\\Data\n"
     ]
    }
   ],
   "source": [
    "%cd Data/"
   ]
  },
  {
   "cell_type": "code",
   "execution_count": 4,
   "id": "a89f22e4",
   "metadata": {},
   "outputs": [],
   "source": [
    "features = pd.read_csv('features.csv')\n",
    "data = pd.read_csv(\"train.csv\")"
   ]
  },
  {
   "cell_type": "code",
   "execution_count": 5,
   "id": "3b793993",
   "metadata": {},
   "outputs": [
    {
     "data": {
      "text/html": [
       "<div>\n",
       "<style scoped>\n",
       "    .dataframe tbody tr th:only-of-type {\n",
       "        vertical-align: middle;\n",
       "    }\n",
       "\n",
       "    .dataframe tbody tr th {\n",
       "        vertical-align: top;\n",
       "    }\n",
       "\n",
       "    .dataframe thead th {\n",
       "        text-align: right;\n",
       "    }\n",
       "</style>\n",
       "<table border=\"1\" class=\"dataframe\">\n",
       "  <thead>\n",
       "    <tr style=\"text-align: right;\">\n",
       "      <th></th>\n",
       "      <th>Store</th>\n",
       "      <th>Dept</th>\n",
       "      <th>Weekly_Sales</th>\n",
       "    </tr>\n",
       "  </thead>\n",
       "  <tbody>\n",
       "    <tr>\n",
       "      <th>count</th>\n",
       "      <td>421570.000000</td>\n",
       "      <td>421570.000000</td>\n",
       "      <td>421570.000000</td>\n",
       "    </tr>\n",
       "    <tr>\n",
       "      <th>mean</th>\n",
       "      <td>22.200546</td>\n",
       "      <td>44.260317</td>\n",
       "      <td>15981.258123</td>\n",
       "    </tr>\n",
       "    <tr>\n",
       "      <th>std</th>\n",
       "      <td>12.785297</td>\n",
       "      <td>30.492054</td>\n",
       "      <td>22711.183519</td>\n",
       "    </tr>\n",
       "    <tr>\n",
       "      <th>min</th>\n",
       "      <td>1.000000</td>\n",
       "      <td>1.000000</td>\n",
       "      <td>-4988.940000</td>\n",
       "    </tr>\n",
       "    <tr>\n",
       "      <th>25%</th>\n",
       "      <td>11.000000</td>\n",
       "      <td>18.000000</td>\n",
       "      <td>2079.650000</td>\n",
       "    </tr>\n",
       "    <tr>\n",
       "      <th>50%</th>\n",
       "      <td>22.000000</td>\n",
       "      <td>37.000000</td>\n",
       "      <td>7612.030000</td>\n",
       "    </tr>\n",
       "    <tr>\n",
       "      <th>75%</th>\n",
       "      <td>33.000000</td>\n",
       "      <td>74.000000</td>\n",
       "      <td>20205.852500</td>\n",
       "    </tr>\n",
       "    <tr>\n",
       "      <th>max</th>\n",
       "      <td>45.000000</td>\n",
       "      <td>99.000000</td>\n",
       "      <td>693099.360000</td>\n",
       "    </tr>\n",
       "  </tbody>\n",
       "</table>\n",
       "</div>"
      ],
      "text/plain": [
       "               Store           Dept   Weekly_Sales\n",
       "count  421570.000000  421570.000000  421570.000000\n",
       "mean       22.200546      44.260317   15981.258123\n",
       "std        12.785297      30.492054   22711.183519\n",
       "min         1.000000       1.000000   -4988.940000\n",
       "25%        11.000000      18.000000    2079.650000\n",
       "50%        22.000000      37.000000    7612.030000\n",
       "75%        33.000000      74.000000   20205.852500\n",
       "max        45.000000      99.000000  693099.360000"
      ]
     },
     "execution_count": 5,
     "metadata": {},
     "output_type": "execute_result"
    }
   ],
   "source": [
    "data.describe()"
   ]
  },
  {
   "cell_type": "code",
   "execution_count": 6,
   "id": "d2245cee",
   "metadata": {},
   "outputs": [
    {
     "data": {
      "text/plain": [
       "Store              0\n",
       "Date               0\n",
       "Temperature        0\n",
       "Fuel_Price         0\n",
       "MarkDown1       4158\n",
       "MarkDown2       5269\n",
       "MarkDown3       4577\n",
       "MarkDown4       4726\n",
       "MarkDown5       4140\n",
       "CPI              585\n",
       "Unemployment     585\n",
       "IsHoliday          0\n",
       "dtype: int64"
      ]
     },
     "execution_count": 6,
     "metadata": {},
     "output_type": "execute_result"
    }
   ],
   "source": [
    "features.isna().sum()"
   ]
  },
  {
   "cell_type": "code",
   "execution_count": 7,
   "id": "cad9266f",
   "metadata": {},
   "outputs": [
    {
     "data": {
      "text/plain": [
       "Store             int64\n",
       "Date             object\n",
       "Temperature     float64\n",
       "Fuel_Price      float64\n",
       "MarkDown1       float64\n",
       "MarkDown2       float64\n",
       "MarkDown3       float64\n",
       "MarkDown4       float64\n",
       "MarkDown5       float64\n",
       "CPI             float64\n",
       "Unemployment    float64\n",
       "IsHoliday          bool\n",
       "dtype: object"
      ]
     },
     "execution_count": 7,
     "metadata": {},
     "output_type": "execute_result"
    }
   ],
   "source": [
    "features.dtypes "
   ]
  },
  {
   "cell_type": "code",
   "execution_count": 8,
   "id": "71353f35",
   "metadata": {},
   "outputs": [
    {
     "data": {
      "text/plain": [
       "(421570, 5)"
      ]
     },
     "execution_count": 8,
     "metadata": {},
     "output_type": "execute_result"
    }
   ],
   "source": [
    "data.shape"
   ]
  },
  {
   "cell_type": "code",
   "execution_count": 9,
   "id": "b4c90803",
   "metadata": {},
   "outputs": [
    {
     "name": "stdout",
     "output_type": "stream",
     "text": [
      "   Store  Dept        Date  Weekly_Sales  IsHoliday\n",
      "0      1     1  2010-02-05      24924.50      False\n",
      "1      1     1  2010-02-12      46039.49       True\n",
      "2      1     1  2010-02-19      41595.55      False\n",
      "3      1     1  2010-02-26      19403.54      False\n",
      "4      1     1  2010-03-05      21827.90      False\n"
     ]
    }
   ],
   "source": [
    "print(data.head())"
   ]
  },
  {
   "cell_type": "code",
   "execution_count": 10,
   "id": "cca49ad6",
   "metadata": {
    "scrolled": false
   },
   "outputs": [
    {
     "data": {
      "text/plain": [
       "81"
      ]
     },
     "execution_count": 10,
     "metadata": {},
     "output_type": "execute_result"
    }
   ],
   "source": [
    "len(data['Dept'].unique())"
   ]
  },
  {
   "cell_type": "code",
   "execution_count": 11,
   "id": "ce93dd12",
   "metadata": {},
   "outputs": [],
   "source": [
    "data['Date'] = pd.to_datetime(data['Date'])"
   ]
  },
  {
   "cell_type": "code",
   "execution_count": 12,
   "id": "d701c4ee",
   "metadata": {},
   "outputs": [
    {
     "data": {
      "text/html": [
       "<div>\n",
       "<style scoped>\n",
       "    .dataframe tbody tr th:only-of-type {\n",
       "        vertical-align: middle;\n",
       "    }\n",
       "\n",
       "    .dataframe tbody tr th {\n",
       "        vertical-align: top;\n",
       "    }\n",
       "\n",
       "    .dataframe thead tr th {\n",
       "        text-align: left;\n",
       "    }\n",
       "\n",
       "    .dataframe thead tr:last-of-type th {\n",
       "        text-align: right;\n",
       "    }\n",
       "</style>\n",
       "<table border=\"1\" class=\"dataframe\">\n",
       "  <thead>\n",
       "    <tr>\n",
       "      <th>Dept</th>\n",
       "      <th colspan=\"10\" halign=\"left\">1</th>\n",
       "      <th>...</th>\n",
       "      <th colspan=\"10\" halign=\"left\">99</th>\n",
       "    </tr>\n",
       "    <tr>\n",
       "      <th>Store</th>\n",
       "      <th>1</th>\n",
       "      <th>2</th>\n",
       "      <th>3</th>\n",
       "      <th>4</th>\n",
       "      <th>5</th>\n",
       "      <th>6</th>\n",
       "      <th>7</th>\n",
       "      <th>8</th>\n",
       "      <th>9</th>\n",
       "      <th>10</th>\n",
       "      <th>...</th>\n",
       "      <th>33</th>\n",
       "      <th>34</th>\n",
       "      <th>36</th>\n",
       "      <th>37</th>\n",
       "      <th>38</th>\n",
       "      <th>39</th>\n",
       "      <th>40</th>\n",
       "      <th>41</th>\n",
       "      <th>43</th>\n",
       "      <th>44</th>\n",
       "    </tr>\n",
       "    <tr>\n",
       "      <th>Date</th>\n",
       "      <th></th>\n",
       "      <th></th>\n",
       "      <th></th>\n",
       "      <th></th>\n",
       "      <th></th>\n",
       "      <th></th>\n",
       "      <th></th>\n",
       "      <th></th>\n",
       "      <th></th>\n",
       "      <th></th>\n",
       "      <th></th>\n",
       "      <th></th>\n",
       "      <th></th>\n",
       "      <th></th>\n",
       "      <th></th>\n",
       "      <th></th>\n",
       "      <th></th>\n",
       "      <th></th>\n",
       "      <th></th>\n",
       "      <th></th>\n",
       "      <th></th>\n",
       "    </tr>\n",
       "  </thead>\n",
       "  <tbody>\n",
       "    <tr>\n",
       "      <th>2010-02-05</th>\n",
       "      <td>24924.50</td>\n",
       "      <td>35034.06</td>\n",
       "      <td>6453.58</td>\n",
       "      <td>38724.42</td>\n",
       "      <td>9323.89</td>\n",
       "      <td>25619.00</td>\n",
       "      <td>8970.97</td>\n",
       "      <td>16181.89</td>\n",
       "      <td>12861.40</td>\n",
       "      <td>40212.84</td>\n",
       "      <td>...</td>\n",
       "      <td>NaN</td>\n",
       "      <td>NaN</td>\n",
       "      <td>NaN</td>\n",
       "      <td>NaN</td>\n",
       "      <td>NaN</td>\n",
       "      <td>NaN</td>\n",
       "      <td>NaN</td>\n",
       "      <td>NaN</td>\n",
       "      <td>NaN</td>\n",
       "      <td>NaN</td>\n",
       "    </tr>\n",
       "    <tr>\n",
       "      <th>2010-02-12</th>\n",
       "      <td>46039.49</td>\n",
       "      <td>60483.70</td>\n",
       "      <td>12748.72</td>\n",
       "      <td>69872.44</td>\n",
       "      <td>16861.10</td>\n",
       "      <td>43749.81</td>\n",
       "      <td>14026.65</td>\n",
       "      <td>34262.09</td>\n",
       "      <td>20273.94</td>\n",
       "      <td>67699.32</td>\n",
       "      <td>...</td>\n",
       "      <td>NaN</td>\n",
       "      <td>NaN</td>\n",
       "      <td>NaN</td>\n",
       "      <td>NaN</td>\n",
       "      <td>NaN</td>\n",
       "      <td>NaN</td>\n",
       "      <td>NaN</td>\n",
       "      <td>NaN</td>\n",
       "      <td>NaN</td>\n",
       "      <td>NaN</td>\n",
       "    </tr>\n",
       "    <tr>\n",
       "      <th>2010-02-19</th>\n",
       "      <td>41595.55</td>\n",
       "      <td>58221.52</td>\n",
       "      <td>8918.31</td>\n",
       "      <td>49937.09</td>\n",
       "      <td>11417.67</td>\n",
       "      <td>34750.82</td>\n",
       "      <td>12477.79</td>\n",
       "      <td>22319.25</td>\n",
       "      <td>14819.97</td>\n",
       "      <td>49748.33</td>\n",
       "      <td>...</td>\n",
       "      <td>NaN</td>\n",
       "      <td>NaN</td>\n",
       "      <td>NaN</td>\n",
       "      <td>NaN</td>\n",
       "      <td>NaN</td>\n",
       "      <td>NaN</td>\n",
       "      <td>NaN</td>\n",
       "      <td>NaN</td>\n",
       "      <td>NaN</td>\n",
       "      <td>NaN</td>\n",
       "    </tr>\n",
       "    <tr>\n",
       "      <th>2010-02-26</th>\n",
       "      <td>19403.54</td>\n",
       "      <td>25962.32</td>\n",
       "      <td>4992.00</td>\n",
       "      <td>30107.54</td>\n",
       "      <td>7168.41</td>\n",
       "      <td>19896.08</td>\n",
       "      <td>8602.73</td>\n",
       "      <td>11722.71</td>\n",
       "      <td>10530.98</td>\n",
       "      <td>33601.22</td>\n",
       "      <td>...</td>\n",
       "      <td>NaN</td>\n",
       "      <td>NaN</td>\n",
       "      <td>NaN</td>\n",
       "      <td>NaN</td>\n",
       "      <td>NaN</td>\n",
       "      <td>NaN</td>\n",
       "      <td>NaN</td>\n",
       "      <td>NaN</td>\n",
       "      <td>NaN</td>\n",
       "      <td>NaN</td>\n",
       "    </tr>\n",
       "    <tr>\n",
       "      <th>2010-03-05</th>\n",
       "      <td>21827.90</td>\n",
       "      <td>27372.05</td>\n",
       "      <td>5172.73</td>\n",
       "      <td>31580.69</td>\n",
       "      <td>8344.13</td>\n",
       "      <td>22839.36</td>\n",
       "      <td>9541.12</td>\n",
       "      <td>12979.74</td>\n",
       "      <td>10438.47</td>\n",
       "      <td>36572.44</td>\n",
       "      <td>...</td>\n",
       "      <td>NaN</td>\n",
       "      <td>NaN</td>\n",
       "      <td>NaN</td>\n",
       "      <td>NaN</td>\n",
       "      <td>NaN</td>\n",
       "      <td>0.01</td>\n",
       "      <td>NaN</td>\n",
       "      <td>NaN</td>\n",
       "      <td>NaN</td>\n",
       "      <td>0.01</td>\n",
       "    </tr>\n",
       "  </tbody>\n",
       "</table>\n",
       "<p>5 rows × 3331 columns</p>\n",
       "</div>"
      ],
      "text/plain": [
       "Dept              1                                                     \\\n",
       "Store             1         2         3         4         5         6    \n",
       "Date                                                                     \n",
       "2010-02-05  24924.50  35034.06   6453.58  38724.42   9323.89  25619.00   \n",
       "2010-02-12  46039.49  60483.70  12748.72  69872.44  16861.10  43749.81   \n",
       "2010-02-19  41595.55  58221.52   8918.31  49937.09  11417.67  34750.82   \n",
       "2010-02-26  19403.54  25962.32   4992.00  30107.54   7168.41  19896.08   \n",
       "2010-03-05  21827.90  27372.05   5172.73  31580.69   8344.13  22839.36   \n",
       "\n",
       "Dept                                                ...  99                  \\\n",
       "Store             7         8         9         10  ...  33  34  36  37  38   \n",
       "Date                                                ...                       \n",
       "2010-02-05   8970.97  16181.89  12861.40  40212.84  ... NaN NaN NaN NaN NaN   \n",
       "2010-02-12  14026.65  34262.09  20273.94  67699.32  ... NaN NaN NaN NaN NaN   \n",
       "2010-02-19  12477.79  22319.25  14819.97  49748.33  ... NaN NaN NaN NaN NaN   \n",
       "2010-02-26   8602.73  11722.71  10530.98  33601.22  ... NaN NaN NaN NaN NaN   \n",
       "2010-03-05   9541.12  12979.74  10438.47  36572.44  ... NaN NaN NaN NaN NaN   \n",
       "\n",
       "Dept                                \n",
       "Store         39  40  41  43    44  \n",
       "Date                                \n",
       "2010-02-05   NaN NaN NaN NaN   NaN  \n",
       "2010-02-12   NaN NaN NaN NaN   NaN  \n",
       "2010-02-19   NaN NaN NaN NaN   NaN  \n",
       "2010-02-26   NaN NaN NaN NaN   NaN  \n",
       "2010-03-05  0.01 NaN NaN NaN  0.01  \n",
       "\n",
       "[5 rows x 3331 columns]"
      ]
     },
     "execution_count": 12,
     "metadata": {},
     "output_type": "execute_result"
    }
   ],
   "source": [
    "# create a new DataFrame with the weeks as rows, departments as columns, and sales as values\n",
    "sales_by_week_dept_store = data.pivot_table(index='Date', columns=['Dept', 'Store'], values='Weekly_Sales')\n",
    "\n",
    "sales_by_week_dept_store.head()"
   ]
  },
  {
   "cell_type": "code",
   "execution_count": 13,
   "id": "4ddf4645",
   "metadata": {},
   "outputs": [
    {
     "data": {
      "text/html": [
       "<div>\n",
       "<style scoped>\n",
       "    .dataframe tbody tr th:only-of-type {\n",
       "        vertical-align: middle;\n",
       "    }\n",
       "\n",
       "    .dataframe tbody tr th {\n",
       "        vertical-align: top;\n",
       "    }\n",
       "\n",
       "    .dataframe thead tr th {\n",
       "        text-align: left;\n",
       "    }\n",
       "</style>\n",
       "<table border=\"1\" class=\"dataframe\">\n",
       "  <thead>\n",
       "    <tr>\n",
       "      <th>Dept</th>\n",
       "      <th colspan=\"10\" halign=\"left\">1</th>\n",
       "      <th>...</th>\n",
       "      <th colspan=\"10\" halign=\"left\">99</th>\n",
       "    </tr>\n",
       "    <tr>\n",
       "      <th>Store</th>\n",
       "      <th>1</th>\n",
       "      <th>2</th>\n",
       "      <th>3</th>\n",
       "      <th>4</th>\n",
       "      <th>5</th>\n",
       "      <th>6</th>\n",
       "      <th>7</th>\n",
       "      <th>8</th>\n",
       "      <th>9</th>\n",
       "      <th>10</th>\n",
       "      <th>...</th>\n",
       "      <th>33</th>\n",
       "      <th>34</th>\n",
       "      <th>36</th>\n",
       "      <th>37</th>\n",
       "      <th>38</th>\n",
       "      <th>39</th>\n",
       "      <th>40</th>\n",
       "      <th>41</th>\n",
       "      <th>43</th>\n",
       "      <th>44</th>\n",
       "    </tr>\n",
       "  </thead>\n",
       "  <tbody>\n",
       "    <tr>\n",
       "      <th>count</th>\n",
       "      <td>143.000000</td>\n",
       "      <td>143.000000</td>\n",
       "      <td>143.000000</td>\n",
       "      <td>143.000000</td>\n",
       "      <td>143.000000</td>\n",
       "      <td>143.000000</td>\n",
       "      <td>143.000000</td>\n",
       "      <td>143.000000</td>\n",
       "      <td>143.000000</td>\n",
       "      <td>143.000000</td>\n",
       "      <td>...</td>\n",
       "      <td>5.000000</td>\n",
       "      <td>37.000000</td>\n",
       "      <td>1.00</td>\n",
       "      <td>3.000000</td>\n",
       "      <td>1.0</td>\n",
       "      <td>41.000000</td>\n",
       "      <td>36.000000</td>\n",
       "      <td>43.000000</td>\n",
       "      <td>4.000000</td>\n",
       "      <td>2.000000</td>\n",
       "    </tr>\n",
       "    <tr>\n",
       "      <th>mean</th>\n",
       "      <td>22513.322937</td>\n",
       "      <td>30777.980769</td>\n",
       "      <td>7328.621049</td>\n",
       "      <td>36979.940070</td>\n",
       "      <td>9774.553077</td>\n",
       "      <td>23867.553776</td>\n",
       "      <td>9542.801259</td>\n",
       "      <td>14789.827343</td>\n",
       "      <td>11846.558252</td>\n",
       "      <td>39925.138951</td>\n",
       "      <td>...</td>\n",
       "      <td>0.022000</td>\n",
       "      <td>347.144324</td>\n",
       "      <td>0.02</td>\n",
       "      <td>15.000000</td>\n",
       "      <td>25.0</td>\n",
       "      <td>334.869756</td>\n",
       "      <td>167.374167</td>\n",
       "      <td>443.736512</td>\n",
       "      <td>26.250000</td>\n",
       "      <td>3.505000</td>\n",
       "    </tr>\n",
       "    <tr>\n",
       "      <th>std</th>\n",
       "      <td>9854.349032</td>\n",
       "      <td>14320.969926</td>\n",
       "      <td>3116.986263</td>\n",
       "      <td>15156.690657</td>\n",
       "      <td>2705.111126</td>\n",
       "      <td>9950.089558</td>\n",
       "      <td>3007.674435</td>\n",
       "      <td>7499.892981</td>\n",
       "      <td>4280.462419</td>\n",
       "      <td>23688.629825</td>\n",
       "      <td>...</td>\n",
       "      <td>0.010954</td>\n",
       "      <td>787.545803</td>\n",
       "      <td>NaN</td>\n",
       "      <td>8.660254</td>\n",
       "      <td>NaN</td>\n",
       "      <td>638.880496</td>\n",
       "      <td>298.953977</td>\n",
       "      <td>844.743633</td>\n",
       "      <td>18.427787</td>\n",
       "      <td>4.942676</td>\n",
       "    </tr>\n",
       "    <tr>\n",
       "      <th>min</th>\n",
       "      <td>14537.370000</td>\n",
       "      <td>19092.940000</td>\n",
       "      <td>3440.690000</td>\n",
       "      <td>23961.800000</td>\n",
       "      <td>6694.810000</td>\n",
       "      <td>13951.760000</td>\n",
       "      <td>5589.620000</td>\n",
       "      <td>8113.010000</td>\n",
       "      <td>7789.720000</td>\n",
       "      <td>23444.710000</td>\n",
       "      <td>...</td>\n",
       "      <td>0.010000</td>\n",
       "      <td>-9.000000</td>\n",
       "      <td>0.02</td>\n",
       "      <td>10.000000</td>\n",
       "      <td>25.0</td>\n",
       "      <td>0.010000</td>\n",
       "      <td>0.020000</td>\n",
       "      <td>0.010000</td>\n",
       "      <td>5.000000</td>\n",
       "      <td>0.010000</td>\n",
       "    </tr>\n",
       "    <tr>\n",
       "      <th>25%</th>\n",
       "      <td>16494.630000</td>\n",
       "      <td>22836.425000</td>\n",
       "      <td>5130.170000</td>\n",
       "      <td>27470.455000</td>\n",
       "      <td>8098.020000</td>\n",
       "      <td>18151.160000</td>\n",
       "      <td>7764.880000</td>\n",
       "      <td>10146.430000</td>\n",
       "      <td>9192.850000</td>\n",
       "      <td>26577.585000</td>\n",
       "      <td>...</td>\n",
       "      <td>0.020000</td>\n",
       "      <td>8.960000</td>\n",
       "      <td>0.02</td>\n",
       "      <td>10.000000</td>\n",
       "      <td>25.0</td>\n",
       "      <td>40.000000</td>\n",
       "      <td>7.517500</td>\n",
       "      <td>29.880000</td>\n",
       "      <td>20.000000</td>\n",
       "      <td>1.757500</td>\n",
       "    </tr>\n",
       "    <tr>\n",
       "      <th>50%</th>\n",
       "      <td>18535.480000</td>\n",
       "      <td>24826.250000</td>\n",
       "      <td>6673.830000</td>\n",
       "      <td>30977.960000</td>\n",
       "      <td>9078.610000</td>\n",
       "      <td>19952.170000</td>\n",
       "      <td>8719.240000</td>\n",
       "      <td>12305.830000</td>\n",
       "      <td>10365.440000</td>\n",
       "      <td>30345.610000</td>\n",
       "      <td>...</td>\n",
       "      <td>0.020000</td>\n",
       "      <td>50.000000</td>\n",
       "      <td>0.02</td>\n",
       "      <td>10.000000</td>\n",
       "      <td>25.0</td>\n",
       "      <td>90.000000</td>\n",
       "      <td>55.000000</td>\n",
       "      <td>70.000000</td>\n",
       "      <td>25.000000</td>\n",
       "      <td>3.505000</td>\n",
       "    </tr>\n",
       "    <tr>\n",
       "      <th>75%</th>\n",
       "      <td>23214.215000</td>\n",
       "      <td>30310.850000</td>\n",
       "      <td>8254.410000</td>\n",
       "      <td>38457.165000</td>\n",
       "      <td>10259.915000</td>\n",
       "      <td>24949.180000</td>\n",
       "      <td>10049.785000</td>\n",
       "      <td>15862.055000</td>\n",
       "      <td>12465.760000</td>\n",
       "      <td>39575.265000</td>\n",
       "      <td>...</td>\n",
       "      <td>0.020000</td>\n",
       "      <td>250.000000</td>\n",
       "      <td>0.02</td>\n",
       "      <td>17.500000</td>\n",
       "      <td>25.0</td>\n",
       "      <td>295.000000</td>\n",
       "      <td>177.500000</td>\n",
       "      <td>412.500000</td>\n",
       "      <td>31.250000</td>\n",
       "      <td>5.252500</td>\n",
       "    </tr>\n",
       "    <tr>\n",
       "      <th>max</th>\n",
       "      <td>57592.120000</td>\n",
       "      <td>82766.070000</td>\n",
       "      <td>18969.050000</td>\n",
       "      <td>91965.850000</td>\n",
       "      <td>21113.020000</td>\n",
       "      <td>62544.570000</td>\n",
       "      <td>24797.060000</td>\n",
       "      <td>48385.220000</td>\n",
       "      <td>27993.330000</td>\n",
       "      <td>140537.200000</td>\n",
       "      <td>...</td>\n",
       "      <td>0.040000</td>\n",
       "      <td>3550.000000</td>\n",
       "      <td>0.02</td>\n",
       "      <td>25.000000</td>\n",
       "      <td>25.0</td>\n",
       "      <td>3280.000000</td>\n",
       "      <td>1470.000000</td>\n",
       "      <td>3280.000000</td>\n",
       "      <td>50.000000</td>\n",
       "      <td>7.000000</td>\n",
       "    </tr>\n",
       "  </tbody>\n",
       "</table>\n",
       "<p>8 rows × 3331 columns</p>\n",
       "</div>"
      ],
      "text/plain": [
       "Dept             1                                                           \\\n",
       "Store            1             2             3             4             5    \n",
       "count    143.000000    143.000000    143.000000    143.000000    143.000000   \n",
       "mean   22513.322937  30777.980769   7328.621049  36979.940070   9774.553077   \n",
       "std     9854.349032  14320.969926   3116.986263  15156.690657   2705.111126   \n",
       "min    14537.370000  19092.940000   3440.690000  23961.800000   6694.810000   \n",
       "25%    16494.630000  22836.425000   5130.170000  27470.455000   8098.020000   \n",
       "50%    18535.480000  24826.250000   6673.830000  30977.960000   9078.610000   \n",
       "75%    23214.215000  30310.850000   8254.410000  38457.165000  10259.915000   \n",
       "max    57592.120000  82766.070000  18969.050000  91965.850000  21113.020000   \n",
       "\n",
       "Dept                                                                          \\\n",
       "Store            6             7             8             9              10   \n",
       "count    143.000000    143.000000    143.000000    143.000000     143.000000   \n",
       "mean   23867.553776   9542.801259  14789.827343  11846.558252   39925.138951   \n",
       "std     9950.089558   3007.674435   7499.892981   4280.462419   23688.629825   \n",
       "min    13951.760000   5589.620000   8113.010000   7789.720000   23444.710000   \n",
       "25%    18151.160000   7764.880000  10146.430000   9192.850000   26577.585000   \n",
       "50%    19952.170000   8719.240000  12305.830000  10365.440000   30345.610000   \n",
       "75%    24949.180000  10049.785000  15862.055000  12465.760000   39575.265000   \n",
       "max    62544.570000  24797.060000  48385.220000  27993.330000  140537.200000   \n",
       "\n",
       "Dept   ...        99                                                   \\\n",
       "Store  ...        33           34    36         37    38           39   \n",
       "count  ...  5.000000    37.000000  1.00   3.000000   1.0    41.000000   \n",
       "mean   ...  0.022000   347.144324  0.02  15.000000  25.0   334.869756   \n",
       "std    ...  0.010954   787.545803   NaN   8.660254   NaN   638.880496   \n",
       "min    ...  0.010000    -9.000000  0.02  10.000000  25.0     0.010000   \n",
       "25%    ...  0.020000     8.960000  0.02  10.000000  25.0    40.000000   \n",
       "50%    ...  0.020000    50.000000  0.02  10.000000  25.0    90.000000   \n",
       "75%    ...  0.020000   250.000000  0.02  17.500000  25.0   295.000000   \n",
       "max    ...  0.040000  3550.000000  0.02  25.000000  25.0  3280.000000   \n",
       "\n",
       "Dept                                                  \n",
       "Store           40           41         43        44  \n",
       "count    36.000000    43.000000   4.000000  2.000000  \n",
       "mean    167.374167   443.736512  26.250000  3.505000  \n",
       "std     298.953977   844.743633  18.427787  4.942676  \n",
       "min       0.020000     0.010000   5.000000  0.010000  \n",
       "25%       7.517500    29.880000  20.000000  1.757500  \n",
       "50%      55.000000    70.000000  25.000000  3.505000  \n",
       "75%     177.500000   412.500000  31.250000  5.252500  \n",
       "max    1470.000000  3280.000000  50.000000  7.000000  \n",
       "\n",
       "[8 rows x 3331 columns]"
      ]
     },
     "execution_count": 13,
     "metadata": {},
     "output_type": "execute_result"
    }
   ],
   "source": [
    "sales_by_week_dept_store.describe()"
   ]
  },
  {
   "cell_type": "code",
   "execution_count": 14,
   "id": "bbb141f0",
   "metadata": {
    "scrolled": false
   },
   "outputs": [
    {
     "data": {
      "text/plain": [
       "Dept  Store\n",
       "92    14       26101497.71\n",
       "      2        23572153.03\n",
       "      20       23542625.04\n",
       "      13       23170876.20\n",
       "      4        22789210.43\n",
       "                  ...     \n",
       "47    45          -1061.04\n",
       "72    42          -1209.93\n",
       "47    10          -2329.00\n",
       "      1           -2562.00\n",
       "      35          -3567.18\n",
       "Length: 3331, dtype: float64"
      ]
     },
     "execution_count": 14,
     "metadata": {},
     "output_type": "execute_result"
    }
   ],
   "source": [
    "Total_sales = sales_by_week_dept_store.sum(axis=0).sort_values(ascending=False)\n",
    "Total_sales"
   ]
  },
  {
   "cell_type": "code",
   "execution_count": 16,
   "id": "f3bfb68c",
   "metadata": {
    "scrolled": true
   },
   "outputs": [
    {
     "data": {
      "image/png": "[encoded data removed]",
      "text/plain": [
       "<Figure size 432x288 with 1 Axes>"
      ]
     },
     "metadata": {
      "needs_background": "light"
     },
     "output_type": "display_data"
    }
   ],
   "source": [
    "#top stores in sales over time \n",
    "Stores_sales = Total_sales.groupby('Store').sum()\n",
    "Top_stores = Stores_sales.sort_values(ascending=False)[:10]\n",
    "sns.barplot(x= Top_stores.index ,y = Top_stores.values , order = Top_stores.index )\n",
    "plt.title(\"Top 10 Stores across all departments\")\n",
    "plt.xlabel(\"Stores\")\n",
    "plt.ylabel('Sales by hunderd millons')\n",
    "plt.show()"
   ]
  },
  {
   "cell_type": "code",
   "execution_count": 18,
   "id": "b76aaa0f",
   "metadata": {
    "scrolled": true
   },
   "outputs": [
    {
     "data": {
      "image/png": "[encoded data removed]",
      "text/plain": [
       "<Figure size 432x288 with 1 Axes>"
      ]
     },
     "metadata": {
      "needs_background": "light"
     },
     "output_type": "display_data"
    }
   ],
   "source": [
    "#Lowest_stores store across them \n",
    "Lowest_stores_stores  = Stores_sales.sort_values(ascending= True)[:10]\n",
    "sns.barplot(x= Lowest_stores.index ,y = Lowest_stores.values , order = Lowest_stores.index )\n",
    "plt.title(\"Lowest_stores stores\")\n",
    "plt.xlabel(\"Stores\")\n",
    "plt.ylabel('Sales by hunderd millons')\n",
    "plt.show()"
   ]
  },
  {
   "cell_type": "code",
   "execution_count": 20,
   "id": "bbdbe01d",
   "metadata": {},
   "outputs": [
    {
     "data": {
      "image/png": "[encoded data removed]",
      "text/plain": [
       "<Figure size 432x288 with 1 Axes>"
      ]
     },
     "metadata": {
      "needs_background": "light"
     },
     "output_type": "display_data"
    }
   ],
   "source": [
    "#top departments across all stores \n",
    "Dept_sales =  Total_sales.groupby('Dept').sum()\n",
    "Top_depts = Dept_sales.sort_values(ascending=False)[:10]\n",
    "\n",
    "sns.barplot(x= Top_depts.index ,y = Top_depts.values , order = Top_depts.index )\n",
    "plt.title(\"Top 10 dept across all stores\")\n",
    "plt.xlabel(\"depts\")\n",
    "plt.ylabel('Sales by hunderd millons')\n",
    "plt.show()"
   ]
  },
  {
   "cell_type": "code",
   "execution_count": 23,
   "id": "e6d02d74",
   "metadata": {},
   "outputs": [
    {
     "data": {
      "image/png": "[encoded data removed]",
      "text/plain": [
       "<Figure size 432x288 with 1 Axes>"
      ]
     },
     "metadata": {
      "needs_background": "light"
     },
     "output_type": "display_data"
    }
   ],
   "source": [
    "#lowest departments across all stores \n",
    "Lowest_dept = Dept_sales.loc[Dept_sales > 0].sort_values(ascending=True)[:10]\n",
    "sns.barplot(x= Lowest_dept.index ,y = Lowest_dept.values , order = Lowest_dept.index )\n",
    "plt.title(\"lowsest depts across all stores\")\n",
    "plt.xlabel(\"depts\")\n",
    "plt.ylabel('Sales by hunderd millons')\n",
    "plt.show()"
   ]
  },
  {
   "cell_type": "code",
   "execution_count": 24,
   "id": "7a3d5191",
   "metadata": {},
   "outputs": [
    {
     "data": {
      "text/plain": [
       "count       302.000000\n",
       "mean      17712.025795\n",
       "std       42827.036678\n",
       "min        -152.320000\n",
       "25%         104.370000\n",
       "50%        1405.825000\n",
       "75%       14091.707500\n",
       "max      327770.790000\n",
       "dtype: float64"
      ]
     },
     "execution_count": 24,
     "metadata": {},
     "output_type": "execute_result"
    }
   ],
   "source": [
    "Total_sales.loc[Lowest_dept.index,:].describe()"
   ]
  },
  {
   "cell_type": "code",
   "execution_count": 25,
   "id": "e26ccfc1",
   "metadata": {},
   "outputs": [],
   "source": [
    "def plot_departments_trend(index,data):\n",
    "    plt.style.use('seaborn')\n",
    "    fig, ax = plt.subplots(figsize=(10,5))\n",
    "\n",
    "    for i in index:\n",
    "        plt.plot(data[i]  ,label = i)\n",
    "        \n",
    "        \n",
    "    plt.legend(index)\n",
    "    plt.title(f\"Sales for {len(index)} sales departments \")\n",
    "    plt.xlabel(\"Week\")\n",
    "    plt.ylabel(\"Sales\")\n",
    "    \n",
    "    xticks =pd.date_range(start=data.index.min(), end=data.index.max())\n",
    "    ax.xaxis.set_major_locator(mdates.WeekdayLocator(interval=3))\n",
    "    ax.xaxis.set_major_formatter(mdates.DateFormatter('%Y-%m-%d'))\n",
    "    \n",
    "#     ax.tick_params(xticks, labelrotation=45)\n",
    "    \n",
    "\n",
    "    "
   ]
  },
  {
   "cell_type": "code",
   "execution_count": 32,
   "id": "0143aafc",
   "metadata": {
    "scrolled": true
   },
   "outputs": [
    {
     "ename": "TypeError",
     "evalue": "subplot() got an unexpected keyword argument 'ncols' and/or 'nrows'.  Did you intend to call subplots()?",
     "output_type": "error",
     "traceback": [
      "\u001b[1;31m---------------------------------------------------------------------------\u001b[0m",
      "\u001b[1;31mTypeError\u001b[0m                                 Traceback (most recent call last)",
      "Input \u001b[1;32mIn [32]\u001b[0m, in \u001b[0;36m<cell line: 1>\u001b[1;34m()\u001b[0m\n\u001b[1;32m----> 1\u001b[0m fig , axs \u001b[38;5;241m=\u001b[39m \u001b[43mplt\u001b[49m\u001b[38;5;241;43m.\u001b[39;49m\u001b[43msubplot\u001b[49m\u001b[43m(\u001b[49m\u001b[43mnrows\u001b[49m\u001b[43m \u001b[49m\u001b[38;5;241;43m=\u001b[39;49m\u001b[43m \u001b[49m\u001b[38;5;241;43m1\u001b[39;49m\u001b[43m,\u001b[49m\u001b[43mncols\u001b[49m\u001b[43m \u001b[49m\u001b[38;5;241;43m=\u001b[39;49m\u001b[43m \u001b[49m\u001b[38;5;241;43m2\u001b[39;49m\u001b[43m)\u001b[49m\n\u001b[0;32m      5\u001b[0m ax[\u001b[38;5;241m0\u001b[39m]\u001b[38;5;241m.\u001b[39mplot_departments_trend( Total_sales\u001b[38;5;241m.\u001b[39mloc[Top_depts\u001b[38;5;241m.\u001b[39mindex[:\u001b[38;5;241m2\u001b[39m]  ,Top_stores\u001b[38;5;241m.\u001b[39mindex[:\u001b[38;5;241m2\u001b[39m]]\u001b[38;5;241m.\u001b[39mindex , sales_by_week_dept_store)\n\u001b[0;32m      6\u001b[0m ax[\u001b[38;5;241m1\u001b[39m] \u001b[38;5;241m.\u001b[39mplot_departments_trend( Total_sales\u001b[38;5;241m.\u001b[39mloc[Top_depts\u001b[38;5;241m.\u001b[39mindex[\u001b[38;5;241m2\u001b[39m:\u001b[38;5;241m4\u001b[39m],Top_stores\u001b[38;5;241m.\u001b[39mindex[\u001b[38;5;241m2\u001b[39m:\u001b[38;5;241m4\u001b[39m]]\u001b[38;5;241m.\u001b[39mindex , sales_by_week_dept_store)\n",
      "File \u001b[1;32m~\\anaconda3\\anaconda3\\lib\\site-packages\\matplotlib\\pyplot.py:1262\u001b[0m, in \u001b[0;36msubplot\u001b[1;34m(*args, **kwargs)\u001b[0m\n\u001b[0;32m   1260\u001b[0m \u001b[38;5;66;03m# Check for nrows and ncols, which are not valid subplot args:\u001b[39;00m\n\u001b[0;32m   1261\u001b[0m \u001b[38;5;28;01mif\u001b[39;00m \u001b[38;5;124m'\u001b[39m\u001b[38;5;124mnrows\u001b[39m\u001b[38;5;124m'\u001b[39m \u001b[38;5;129;01min\u001b[39;00m kwargs \u001b[38;5;129;01mor\u001b[39;00m \u001b[38;5;124m'\u001b[39m\u001b[38;5;124mncols\u001b[39m\u001b[38;5;124m'\u001b[39m \u001b[38;5;129;01min\u001b[39;00m kwargs:\n\u001b[1;32m-> 1262\u001b[0m     \u001b[38;5;28;01mraise\u001b[39;00m \u001b[38;5;167;01mTypeError\u001b[39;00m(\u001b[38;5;124m\"\u001b[39m\u001b[38;5;124msubplot() got an unexpected keyword argument \u001b[39m\u001b[38;5;124m'\u001b[39m\u001b[38;5;124mncols\u001b[39m\u001b[38;5;124m'\u001b[39m\u001b[38;5;124m \u001b[39m\u001b[38;5;124m\"\u001b[39m\n\u001b[0;32m   1263\u001b[0m                     \u001b[38;5;124m\"\u001b[39m\u001b[38;5;124mand/or \u001b[39m\u001b[38;5;124m'\u001b[39m\u001b[38;5;124mnrows\u001b[39m\u001b[38;5;124m'\u001b[39m\u001b[38;5;124m.  Did you intend to call subplots()?\u001b[39m\u001b[38;5;124m\"\u001b[39m)\n\u001b[0;32m   1265\u001b[0m fig \u001b[38;5;241m=\u001b[39m gcf()\n\u001b[0;32m   1267\u001b[0m \u001b[38;5;66;03m# First, search for an existing subplot with a matching spec.\u001b[39;00m\n",
      "\u001b[1;31mTypeError\u001b[0m: subplot() got an unexpected keyword argument 'ncols' and/or 'nrows'.  Did you intend to call subplots()?"
     ]
    }
   ],
   "source": [
    "fig , axs = plt.subplot(nrows = 1,ncols = 2)\n",
    "\n",
    "\n",
    "\n",
    "ax[0].plot_departments_trend( Total_sales.loc[Top_depts.index[:2]  ,Top_stores.index[:2]].index , sales_by_week_dept_store)\n",
    "ax[1] .plot_departments_trend( Total_sales.loc[Top_depts.index[2:4],Top_stores.index[2:4]].index , sales_by_week_dept_store)\n",
    "plt.show()"
   ]
  },
  {
   "cell_type": "code",
   "execution_count": null,
   "id": "2b1df282",
   "metadata": {
    "scrolled": true
   },
   "outputs": [],
   "source": []
  },
  {
   "cell_type": "code",
   "execution_count": 45,
   "id": "3558588b",
   "metadata": {},
   "outputs": [
    {
     "data": {
      "text/plain": [
       "(Int64Index([43, 39, 78], dtype='int64', name='Dept'),\n",
       " Int64Index([33, 44, 5], dtype='int64', name='Store'))"
      ]
     },
     "execution_count": 45,
     "metadata": {},
     "output_type": "execute_result"
    }
   ],
   "source": [
    "plot_departments_trend( Total_sales.loc[Lowest_dept.index[:3]  ,Lowest_stores.index[:3]].index , sales_by_week_dept_store)"
   ]
  },
  {
   "cell_type": "code",
   "execution_count": 22,
   "id": "79cf3ca8",
   "metadata": {
    "scrolled": true
   },
   "outputs": [
    {
     "data": {
      "text/plain": [
       "Dept  Store\n",
       "92    14       26101497.71\n",
       "      2        23572153.03\n",
       "      20       23542625.04\n",
       "      13       23170876.20\n",
       "      4        22789210.43\n",
       "                  ...     \n",
       "47    45          -1061.04\n",
       "72    42          -1209.93\n",
       "47    10          -2329.00\n",
       "      1           -2562.00\n",
       "      35          -3567.18\n",
       "Length: 3331, dtype: float64"
      ]
     },
     "execution_count": 22,
     "metadata": {},
     "output_type": "execute_result"
    }
   ],
   "source": [
    "Total_sale sTotal_sales.loc[(Total_sales.index.unique(level=0)[:5] )  , range(1,5)]"
   ]
  },
  {
   "cell_type": "code",
   "execution_count": 25,
   "id": "27ba44d1",
   "metadata": {},
   "outputs": [
    {
     "data": {
      "text/plain": [
       "Int64Index([92, 95, 72], dtype='int64', name='Dept')"
      ]
     },
     "execution_count": 25,
     "metadata": {},
     "output_type": "execute_result"
    }
   ],
   "source": [
    "(Total_sales.index.unique(level=0)[:3] )"
   ]
  },
  {
   "cell_type": "code",
   "execution_count": null,
   "id": "03dc2bbe",
   "metadata": {
    "scrolled": false
   },
   "outputs": [],
   "source": [
    "#top sales departments\n",
    "plot_departments_trend(Total_sales.head(5), sales_by_week_dept_store)"
   ]
  },
  {
   "cell_type": "markdown",
   "id": "ec930e73",
   "metadata": {},
   "source": [
    "Lets explore the top weeks of sales"
   ]
  },
  {
   "cell_type": "code",
   "execution_count": null,
   "id": "6a01b4cc",
   "metadata": {},
   "outputs": [],
   "source": []
  },
  {
   "cell_type": "code",
   "execution_count": null,
   "id": "f46c0521",
   "metadata": {},
   "outputs": [],
   "source": []
  },
  {
   "cell_type": "code",
   "execution_count": null,
   "id": "2b3d2322",
   "metadata": {},
   "outputs": [],
   "source": [
    "def autocorrplot(nrows , ncols, size , data ,index , lags , type = plot_acf ):\n",
    "    \n",
    "    fig, ax = plt.subplots(nrows=nrows, ncols=ncols, figsize= size)\n",
    "\n",
    "    for i , (x , j) in enumerate(index):\n",
    "        if  i < nrows * ncols :\n",
    "            row =  i // ncols\n",
    "            col = i % ncols \n",
    "            type(data[x, j ] , ax[row , col ], lags=lags)\n",
    "            ax[row , col].set_ylabel(\"Autocorrelation\")\n",
    "            ax[row , col].set_title(f\"Autocorrelation plot for dept {x} store {j}\")\n",
    "        \n",
    "\n",
    "    plt.tight_layout()\n",
    "        \n",
    "    return plt.show()\n"
   ]
  },
  {
   "cell_type": "code",
   "execution_count": null,
   "id": "c19098ba",
   "metadata": {},
   "outputs": [],
   "source": [
    "index = Total_sales.loc[(Total_sales.index.unique(level=0)[:5] )  , range(1,5)] \n",
    "index = index.index\n",
    "autocorrplot(3 , 3, (10 , 10) , sales_by_week_dept_store, index , 52)"
   ]
  },
  {
   "cell_type": "code",
   "execution_count": null,
   "id": "0af9843a",
   "metadata": {},
   "outputs": [],
   "source": [
    "#partial auto correlation \n",
    "autocorrplot(3 , 3, (10 ,10 ) , sales_by_week_dept_store, index , 52 ,type = plot_pacf)"
   ]
  },
  {
   "cell_type": "code",
   "execution_count": null,
   "id": "4c21ce6f",
   "metadata": {
    "scrolled": false
   },
   "outputs": [],
   "source": []
  }
 ],
 "metadata": {
  "kernelspec": {
   "display_name": "Python 3 (ipykernel)",
   "language": "python",
   "name": "python3"
  },
  "language_info": {
   "codemirror_mode": {
    "name": "ipython",
    "version": 3
   },
   "file_extension": ".py",
   "mimetype": "text/x-python",
   "name": "python",
   "nbconvert_exporter": "python",
   "pygments_lexer": "ipython3",
   "version": "3.9.12"
  },
  "varInspector": {
   "cols": {
    "lenName": 16,
    "lenType": 16,
    "lenVar": 40
   },
   "kernels_config": {
    "python": {
     "delete_cmd_postfix": "",
     "delete_cmd_prefix": "del ",
     "library": "var_list.py",
     "varRefreshCmd": "print(var_dic_list())"
    },
    "r": {
     "delete_cmd_postfix": ") ",
     "delete_cmd_prefix": "rm(",
     "library": "var_list.r",
     "varRefreshCmd": "cat(var_dic_list()) "
    }
   },
   "types_to_exclude": [
    "module",
    "function",
    "builtin_function_or_method",
    "instance",
    "_Feature"
   ],
   "window_display": false
  }
 },
 "nbformat": 4,
 "nbformat_minor": 5
}
